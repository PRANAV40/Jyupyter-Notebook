{
 "cells": [
  {
   "cell_type": "code",
   "execution_count": 6,
   "metadata": {},
   "outputs": [
    {
     "name": "stdout",
     "output_type": "stream",
     "text": [
      "   Runs  BF  4s  6s     SR  Pos Dismissal  Inns   Opposition         Ground  \\\n",
      "0    12  22   1   0  54.54    2       lbw     1  v Sri Lanka       Dambulla   \n",
      "1    37  67   6   0  55.22    2    caught     2  v Sri Lanka       Dambulla   \n",
      "2    25  38   4   0  65.78    1   run out     1  v Sri Lanka  Colombo (RPS)   \n",
      "3    54  66   7   0  81.81    1    bowled     1  v Sri Lanka  Colombo (RPS)   \n",
      "4    31  46   3   1  67.39    1       lbw     2  v Sri Lanka  Colombo (RPS)   \n",
      "\n",
      "  Start Date  \n",
      "0  8/18/2008  \n",
      "1  8/20/2008  \n",
      "2  8/24/2008  \n",
      "3  8/27/2008  \n",
      "4  8/29/2008  \n"
     ]
    }
   ],
   "source": [
    "import pandas as pd\n",
    "import numpy as np\n",
    "\n",
    "data = pd.read_csv(\"Virat Kohli Performance Analysis using Python.csv\")\n",
    "print(data.head())"
   ]
  },
  {
   "cell_type": "code",
   "execution_count": 7,
   "metadata": {},
   "outputs": [
    {
     "name": "stdout",
     "output_type": "stream",
     "text": [
      "Runs          0\n",
      "BF            0\n",
      "4s            0\n",
      "6s            0\n",
      "SR            0\n",
      "Pos           0\n",
      "Dismissal     0\n",
      "Inns          0\n",
      "Opposition    0\n",
      "Ground        0\n",
      "Start Date    0\n",
      "dtype: int64\n"
     ]
    }
   ],
   "source": [
    "print(data.isnull().sum())"
   ]
  },
  {
   "cell_type": "code",
   "execution_count": 8,
   "metadata": {},
   "outputs": [
    {
     "data": {
      "text/plain": [
       "6184"
      ]
     },
     "execution_count": 8,
     "metadata": {},
     "output_type": "execute_result"
    }
   ],
   "source": [
    "data[\"Runs\"].sum()"
   ]
  },
  {
   "cell_type": "code",
   "execution_count": 9,
   "metadata": {},
   "outputs": [
    {
     "data": {
      "text/plain": [
       "46.84848484848485"
      ]
     },
     "execution_count": 9,
     "metadata": {},
     "output_type": "execute_result"
    }
   ],
   "source": [
    "data[\"Runs\"].mean()"
   ]
  },
  {
   "cell_type": "code",
   "execution_count": 12,
   "metadata": {},
   "outputs": [
    {
     "name": "stdout",
     "output_type": "stream",
     "text": [
      "     Runs  BF  4s  6s      SR           Pos Dismissal  Inns     Opposition  \\\n",
      "8      27  19   4   0  142.10  Batting At 7    bowled     1    v Sri Lanka   \n",
      "32    100  83   8   2  120.48  Batting At 4   not out     1   v Bangladesh   \n",
      "56     23  11   3   0  209.09  batting At 6   not out     1  v West Indies   \n",
      "76     43  34   4   1  126.47  Batting At 3    caught     1      v England   \n",
      "78    102  83  13   2  122.89  Batting At 3    caught     1  v West Indies   \n",
      "83    100  52   8   7  192.30  Batting At 3   not out     2    v Australia   \n",
      "85    115  66  18   1  174.24  Batting At 3   not out     2    v Australia   \n",
      "93     78  65   7   2  120.00  Batting At 3    caught     2  v New Zealand   \n",
      "130     8   5   2   0  160.00  Batting At 3    caught     1      v England   \n",
      "\n",
      "            Ground  Start Date  \n",
      "8           Rajkot  12/15/2009  \n",
      "32           Dhaka   2/19/2011  \n",
      "56          Indore   12/8/2011  \n",
      "76      Birmingham   6/23/2013  \n",
      "78   Port of Spain    7/5/2013  \n",
      "83          Jaipur  10/16/2013  \n",
      "85          Nagpur  10/30/2013  \n",
      "93        Hamilton   1/22/2014  \n",
      "130        Cuttack   1/19/2017  \n"
     ]
    }
   ],
   "source": [
    "strike_rate = data.query(\"SR >= 120\")\n",
    "print(strike_rate)"
   ]
  },
  {
   "cell_type": "code",
   "execution_count": null,
   "metadata": {},
   "outputs": [],
   "source": []
  }
 ],
 "metadata": {
  "kernelspec": {
   "display_name": "Python 3",
   "language": "python",
   "name": "python3"
  },
  "language_info": {
   "codemirror_mode": {
    "name": "ipython",
    "version": 3
   },
   "file_extension": ".py",
   "mimetype": "text/x-python",
   "name": "python",
   "nbconvert_exporter": "python",
   "pygments_lexer": "ipython3",
   "version": "3.8.5"
  }
 },
 "nbformat": 4,
 "nbformat_minor": 4
}
