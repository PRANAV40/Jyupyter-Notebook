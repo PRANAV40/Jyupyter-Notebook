{
 "cells": [
  {
   "cell_type": "code",
   "execution_count": 13,
   "metadata": {},
   "outputs": [
    {
     "name": "stderr",
     "output_type": "stream",
     "text": [
      "Unable to create process using 'C:\\Users\\Pranav mishra\\anaconda3\\python.exe \"C:\\Users\\Pranav mishra\\anaconda3\\Scripts\\pip-script.py\" install plotly matplotlib'\n"
     ]
    }
   ],
   "source": [
    "!pip install plotly matplotlib"
   ]
  },
  {
   "cell_type": "code",
   "execution_count": 1,
   "metadata": {},
   "outputs": [],
   "source": [
    "import numpy as np\n",
    "import pandas as pd\n",
    "from sklearn.feature_extraction import text\n",
    "from sklearn.metrics.pairwise import linear_kernel"
   ]
  },
  {
   "cell_type": "code",
   "execution_count": 2,
   "metadata": {},
   "outputs": [
    {
     "name": "stdout",
     "output_type": "stream",
     "text": [
      "                                        book_authors  \\\n",
      "0                                    Suzanne Collins   \n",
      "1                         J.K. Rowling|Mary GrandPré   \n",
      "2                                         Harper Lee   \n",
      "3  Jane Austen|Anna Quindlen|Mrs. Oliphant|George...   \n",
      "4                                    Stephenie Meyer   \n",
      "\n",
      "                                           book_desc  \\\n",
      "0  Winning will make you famous. Losing means cer...   \n",
      "1  There is a door at the end of a silent corrido...   \n",
      "2  The unforgettable novel of a childhood in a sl...   \n",
      "3  «È cosa ormai risaputa che a uno scapolo in po...   \n",
      "4  About three things I was absolutely positive.F...   \n",
      "\n",
      "                         book_edition book_format    book_isbn book_pages  \\\n",
      "0                                 NaN   Hardcover  9.78044E+12  374 pages   \n",
      "1                          US Edition   Paperback  9.78044E+12  870 pages   \n",
      "2                    50th Anniversary   Paperback  9.78006E+12  324 pages   \n",
      "3  Modern Library Classics, USA / CAN   Paperback  9.78068E+12  279 pages   \n",
      "4                                 NaN   Paperback  9.78032E+12  498 pages   \n",
      "\n",
      "   book_rating  book_rating_count  book_review_count  \\\n",
      "0         4.33            5519135             160706   \n",
      "1         4.48            2041594              33264   \n",
      "2         4.27            3745197              79450   \n",
      "3         4.25            2453620              54322   \n",
      "4         3.58            4281268              97991   \n",
      "\n",
      "                                  book_title  \\\n",
      "0                           The Hunger Games   \n",
      "1  Harry Potter and the Order of the Phoenix   \n",
      "2                      To Kill a Mockingbird   \n",
      "3                        Pride and Prejudice   \n",
      "4                                   Twilight   \n",
      "\n",
      "                                              genres  \\\n",
      "0  Young Adult|Fiction|Science Fiction|Dystopia|F...   \n",
      "1                        Fantasy|Young Adult|Fiction   \n",
      "2  Classics|Fiction|Historical|Historical Fiction...   \n",
      "3                           Classics|Fiction|Romance   \n",
      "4  Young Adult|Fantasy|Romance|Paranormal|Vampire...   \n",
      "\n",
      "                                           image_url  \n",
      "0  https://images.gr-assets.com/books/1447303603l...  \n",
      "1  https://images.gr-assets.com/books/1255614970l...  \n",
      "2  https://images.gr-assets.com/books/1361975680l...  \n",
      "3  https://images.gr-assets.com/books/1320399351l...  \n",
      "4  https://images.gr-assets.com/books/1361039443l...  \n"
     ]
    }
   ],
   "source": [
    "data = pd.read_csv(\"book_data.csv\")\n",
    "print(data.head())"
   ]
  },
  {
   "cell_type": "code",
   "execution_count": 3,
   "metadata": {},
   "outputs": [
    {
     "name": "stdout",
     "output_type": "stream",
     "text": [
      "                                  book_title  \\\n",
      "0                           The Hunger Games   \n",
      "1  Harry Potter and the Order of the Phoenix   \n",
      "2                      To Kill a Mockingbird   \n",
      "3                        Pride and Prejudice   \n",
      "4                                   Twilight   \n",
      "\n",
      "                                           book_desc  book_rating_count  \n",
      "0  Winning will make you famous. Losing means cer...            5519135  \n",
      "1  There is a door at the end of a silent corrido...            2041594  \n",
      "2  The unforgettable novel of a childhood in a sl...            3745197  \n",
      "3  «È cosa ormai risaputa che a uno scapolo in po...            2453620  \n",
      "4  About three things I was absolutely positive.F...            4281268  \n"
     ]
    }
   ],
   "source": [
    "data = data[[\"book_title\",\"book_desc\",\"book_rating_count\" ]]\n",
    "print(data.head())"
   ]
  },
  {
   "cell_type": "code",
   "execution_count": 12,
   "metadata": {},
   "outputs": [
    {
     "ename": "ModuleNotFoundError",
     "evalue": "No module named 'plotly'",
     "output_type": "error",
     "traceback": [
      "\u001b[1;31m---------------------------------------------------------------------------\u001b[0m",
      "\u001b[1;31mModuleNotFoundError\u001b[0m                       Traceback (most recent call last)",
      "\u001b[1;32m<ipython-input-12-b2743d0bd0ba>\u001b[0m in \u001b[0;36m<module>\u001b[1;34m\u001b[0m\n\u001b[0;32m      2\u001b[0m \u001b[0mtop_5\u001b[0m \u001b[1;33m=\u001b[0m \u001b[0mdata\u001b[0m\u001b[1;33m.\u001b[0m\u001b[0mhead\u001b[0m\u001b[1;33m(\u001b[0m\u001b[1;33m)\u001b[0m\u001b[1;33m\u001b[0m\u001b[1;33m\u001b[0m\u001b[0m\n\u001b[0;32m      3\u001b[0m \u001b[1;33m\u001b[0m\u001b[0m\n\u001b[1;32m----> 4\u001b[1;33m \u001b[1;32mimport\u001b[0m \u001b[0mplotly\u001b[0m\u001b[1;33m.\u001b[0m\u001b[0mexpress\u001b[0m \u001b[1;32mas\u001b[0m \u001b[0mpx\u001b[0m\u001b[1;33m\u001b[0m\u001b[1;33m\u001b[0m\u001b[0m\n\u001b[0m\u001b[0;32m      5\u001b[0m \u001b[1;32mimport\u001b[0m \u001b[0mplotly\u001b[0m\u001b[1;33m.\u001b[0m\u001b[0mgraph_objects\u001b[0m \u001b[1;32mas\u001b[0m \u001b[0mgo\u001b[0m\u001b[1;33m\u001b[0m\u001b[1;33m\u001b[0m\u001b[0m\n\u001b[0;32m      6\u001b[0m \u001b[1;33m\u001b[0m\u001b[0m\n",
      "\u001b[1;31mModuleNotFoundError\u001b[0m: No module named 'plotly'"
     ]
    }
   ],
   "source": [
    "data = data.sort_values(by=\"book_rating_count\",ascending=False)\n",
    "top_5 = data.head()\n",
    "\n",
    "import plotly.express as px\n",
    "import plotly.graph_objects as go\n",
    "\n",
    "labels = top_5[\"book_title\"]\n",
    "values = top_5[\"book_rating_count\"]\n",
    "colors = ['gold','lightgreen']\n",
    "\n",
    "fig = go.Figure(data=[go.Pie(labels=labels, values=values)])\n",
    "fig.update_layout(title_text=\"Top 5 Rated Books\")\n",
    "fig.update_traces(hoverinfo = 'label + percent', textinfo='percent', textfont_size=30, marker = dict(colors=colors, line=dict(color='black', width=3)))\n",
    "fig.show()"
   ]
  },
  {
   "cell_type": "code",
   "execution_count": null,
   "metadata": {},
   "outputs": [],
   "source": []
  }
 ],
 "metadata": {
  "kernelspec": {
   "display_name": "Python 3",
   "language": "python",
   "name": "python3"
  },
  "language_info": {
   "codemirror_mode": {
    "name": "ipython",
    "version": 3
   },
   "file_extension": ".py",
   "mimetype": "text/x-python",
   "name": "python",
   "nbconvert_exporter": "python",
   "pygments_lexer": "ipython3",
   "version": "3.8.5"
  }
 },
 "nbformat": 4,
 "nbformat_minor": 4
}
