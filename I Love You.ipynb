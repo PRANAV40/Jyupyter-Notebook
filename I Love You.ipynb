{
 "cells": [
  {
   "cell_type": "code",
   "execution_count": 7,
   "metadata": {},
   "outputs": [
    {
     "name": "stdout",
     "output_type": "stream",
     "text": [
      "                                                            \n",
      "                                                            \n",
      "                                                            \n",
      "                ouILoveYo           oveYouILo               \n",
      "            veYouILoveYouILov   uILoveYouILoveYou           \n",
      "          oveYouILoveYouILoveYouILoveYouILoveYouILo         \n",
      "         oveYouILoveYouILoveYouILoveYouILoveYouILove        \n",
      "        oveYouILoveYouILoveYouILoveYouILoveYouILoveYo       \n",
      "        veYouILoveYouILoveYouILoveYouILoveYouILoveYou       \n",
      "        eYouILoveYouILoveYouILoveYouILoveYouILoveYouI       \n",
      "        YouILoveYouILoveYouILoveYouILoveYouILoveYouIL       \n",
      "        ouILoveYouILoveYouILoveYouILoveYouILoveYouILo       \n",
      "        uILoveYouILoveYouILoveYouILoveYouILoveYouILov       \n",
      "         LoveYouILoveYouILoveYouILoveYouILoveYouILov        \n",
      "          veYouILoveYouILoveYouILoveYouILoveYouILov         \n",
      "          eYouILoveYouILoveYouILoveYouILoveYouILove         \n",
      "            uILoveYouILoveYouILoveYouILoveYouILov           \n",
      "             LoveYouILoveYouILoveYouILoveYouILov            \n",
      "              veYouILoveYouILoveYouILoveYouILov             \n",
      "                ouILoveYouILoveYouILoveYouILo               \n",
      "                  LoveYouILoveYouILoveYouIL                 \n",
      "                    eYouILoveYouILoveYouI                   \n",
      "                       ILoveYouILoveYo                      \n",
      "                          eYouILove                         \n",
      "                             ILo                            \n",
      "                              o                             \n",
      "                                                            \n",
      "                                                            \n",
      "                                                            \n",
      "                                                            \n"
     ]
    }
   ],
   "source": [
    "print('\\n'.join\n",
    "     ([''.join([('ILoveYou'[(x-y)%8]\n",
    "                if((x*0.05)**2+(y*0.1)**2-1)\n",
    "                 **3-(x*0.05)**2*(y*0.1)\n",
    "                 **3<=0 else' ')\n",
    "               for x in range(-30,30)])\n",
    "      for y in range(15,-15,-1)]))"
   ]
  },
  {
   "cell_type": "code",
   "execution_count": null,
   "metadata": {},
   "outputs": [],
   "source": []
  }
 ],
 "metadata": {
  "kernelspec": {
   "display_name": "Python 3",
   "language": "python",
   "name": "python3"
  },
  "language_info": {
   "codemirror_mode": {
    "name": "ipython",
    "version": 3
   },
   "file_extension": ".py",
   "mimetype": "text/x-python",
   "name": "python",
   "nbconvert_exporter": "python",
   "pygments_lexer": "ipython3",
   "version": "3.8.5"
  }
 },
 "nbformat": 4,
 "nbformat_minor": 4
}
