{
 "cells": [
  {
   "cell_type": "markdown",
   "metadata": {},
   "source": [
    "## Indexing, Slicing, Reshaping, Joining, and Spiliting the array in Python\n"
   ]
  },
  {
   "cell_type": "code",
   "execution_count": 5,
   "metadata": {},
   "outputs": [
    {
     "name": "stdout",
     "output_type": "stream",
     "text": [
      "x ndim: 1\n",
      "x shape: (6,)\n",
      "x size: 6\n",
      "x data int32\n",
      "x itemsize: 4\n",
      "x nbytes 24\n"
     ]
    }
   ],
   "source": [
    "import numpy as np\n",
    "x = np.random.randint(10, size = 6)\n",
    "print(\"x ndim:\",x.ndim)\n",
    "print(\"x shape:\", x.shape)\n",
    "print(\"x size:\", x.size)\n",
    "print(\"x data\",x.dtype)\n",
    "print(\"x itemsize:\", x.itemsize)\n",
    "print(\"x nbytes\", x.nbytes)\n"
   ]
  },
  {
   "cell_type": "code",
   "execution_count": 6,
   "metadata": {},
   "outputs": [
    {
     "name": "stdout",
     "output_type": "stream",
     "text": [
      "[5 3 1]\n"
     ]
    }
   ],
   "source": [
    "import numpy as np\n",
    "x = np.array([0,1,2,3,4,5,6,7,8,9])\n",
    "print(x[5::-2])"
   ]
  },
  {
   "cell_type": "code",
   "execution_count": 8,
   "metadata": {},
   "outputs": [
    {
     "name": "stdout",
     "output_type": "stream",
     "text": [
      "[[ 8  6  7]\n",
      " [ 3  5 12]]\n"
     ]
    }
   ],
   "source": [
    "x2 = np.array([[12,5,3],[7,6,8]])\n",
    "print(x2[::-1,::-1])"
   ]
  },
  {
   "cell_type": "code",
   "execution_count": 10,
   "metadata": {},
   "outputs": [
    {
     "name": "stdout",
     "output_type": "stream",
     "text": [
      "[[12  5  2]\n",
      " [ 7  6  8]]\n"
     ]
    }
   ],
   "source": [
    "x3 = np.array([[12,5,2,4],[7,6,8,8],[1,6,7,7]])\n",
    "print(x3[:2,:3])"
   ]
  },
  {
   "cell_type": "code",
   "execution_count": 27,
   "metadata": {},
   "outputs": [
    {
     "name": "stdout",
     "output_type": "stream",
     "text": [
      "[[12  5  2  4]\n",
      " [ 7  6  8  8]\n",
      " [ 1  6  7  7]\n",
      " [ 1  2  4  6]\n",
      " [ 1  1  2  3]]\n",
      "\n",
      "\n",
      "x1 [12  7  1  1  1]\n",
      "\n",
      "\n",
      "x [[12  5]\n",
      " [ 7  6]]\n",
      "\n",
      "\n",
      "[[12  5]\n",
      " [ 7  6]]\n",
      "\n",
      "\n",
      "X3 [[12  5]\n",
      " [ 7  6]]\n",
      "\n",
      "\n",
      "[[92  5]\n",
      " [ 7  6]]\n",
      "\n",
      "\n",
      "[[1 2 3]\n",
      " [4 5 6]\n",
      " [7 8 9]]\n",
      "\n",
      "\n",
      "R [[[92  5  2  4]]\n",
      "\n",
      " [[ 7  6  8  8]]\n",
      "\n",
      " [[ 1  6  7  7]]\n",
      "\n",
      " [[ 1  2  4  6]]\n",
      "\n",
      " [[ 1  1  2  3]]]\n",
      "\n",
      "\n",
      "[1 2 3] [4 5] [6 8]\n",
      "\n",
      "\n"
     ]
    }
   ],
   "source": [
    "import numpy as np #import the numpy \n",
    "x1 = np.array([[12,5,2,4],[7,6,8,8],[1,6,7,7],[1,2,4,6],[1,1,2,3]])  #define the array\n",
    "print(x1)\n",
    "print('\\n')\n",
    "print(\"x1\",x1[:,0])\n",
    "print('\\n')\n",
    "print(\"x\",x1[:2,:2])\n",
    "print('\\n')\n",
    "print(x1[:2,:2].copy())\n",
    "print('\\n')\n",
    "x3=x1[:2,:2]\n",
    "print(\"X3\",x3)\n",
    "print('\\n')\n",
    "#Eneter the value on [0,0]\n",
    "x3[0,0]=92\n",
    "print(x3)\n",
    "print('\\n')\n",
    "#Reshapre the array\n",
    "grid = np.arange(1,10).reshape((3,3))\n",
    "print(grid)\n",
    "print('\\n')\n",
    "#another method to reshape the array\n",
    "print(\"R\",x1[:,np.newaxis])\n",
    "print('\\n')\n",
    "x = [1,2,3,4,5,6,8]\n",
    "x1,x2,x3 = np.split(x,[3,5])\n",
    "print(x1,x2,x3)\n",
    "print('\\n')"
   ]
  },
  {
   "cell_type": "code",
   "execution_count": 1,
   "metadata": {},
   "outputs": [
    {
     "name": "stdout",
     "output_type": "stream",
     "text": [
      "[1 2 3]\n",
      "\n",
      "\n",
      "[[1 2 3]\n",
      " [4 5 6]]\n",
      "\n",
      "\n",
      "28000\n",
      "4000\n"
     ]
    }
   ],
   "source": [
    "import numpy as np\n",
    "a = np.array((1,2,3))\n",
    "print(a)\n",
    "\n",
    "print(\"\\n\")\n",
    "a = np.array([(1,2,3),(4,5,6)])\n",
    "print(a)\n",
    "print(\"\\n\")\n",
    "\n",
    "import sys\n",
    "s = range(1000)\n",
    "print(sys.getsizeof(5)*len(s))\n",
    "D = np.arange(1000)\n",
    "print(D.size*D.itemsize)"
   ]
  },
  {
   "cell_type": "code",
   "execution_count": null,
   "metadata": {},
   "outputs": [],
   "source": []
  }
 ],
 "metadata": {
  "kernelspec": {
   "display_name": "Python 3",
   "language": "python",
   "name": "python3"
  },
  "language_info": {
   "codemirror_mode": {
    "name": "ipython",
    "version": 3
   },
   "file_extension": ".py",
   "mimetype": "text/x-python",
   "name": "python",
   "nbconvert_exporter": "python",
   "pygments_lexer": "ipython3",
   "version": "3.8.5"
  }
 },
 "nbformat": 4,
 "nbformat_minor": 4
}
