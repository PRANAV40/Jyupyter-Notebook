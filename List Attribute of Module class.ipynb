{
 "cells": [
  {
   "cell_type": "code",
   "execution_count": 1,
   "metadata": {},
   "outputs": [
    {
     "data": {
      "text/plain": [
       "mappingproxy({'__repr__': <slot wrapper '__repr__' of 'datetime.date' objects>,\n",
       "              '__hash__': <slot wrapper '__hash__' of 'datetime.date' objects>,\n",
       "              '__str__': <slot wrapper '__str__' of 'datetime.date' objects>,\n",
       "              '__getattribute__': <slot wrapper '__getattribute__' of 'datetime.date' objects>,\n",
       "              '__lt__': <slot wrapper '__lt__' of 'datetime.date' objects>,\n",
       "              '__le__': <slot wrapper '__le__' of 'datetime.date' objects>,\n",
       "              '__eq__': <slot wrapper '__eq__' of 'datetime.date' objects>,\n",
       "              '__ne__': <slot wrapper '__ne__' of 'datetime.date' objects>,\n",
       "              '__gt__': <slot wrapper '__gt__' of 'datetime.date' objects>,\n",
       "              '__ge__': <slot wrapper '__ge__' of 'datetime.date' objects>,\n",
       "              '__add__': <slot wrapper '__add__' of 'datetime.date' objects>,\n",
       "              '__radd__': <slot wrapper '__radd__' of 'datetime.date' objects>,\n",
       "              '__sub__': <slot wrapper '__sub__' of 'datetime.date' objects>,\n",
       "              '__rsub__': <slot wrapper '__rsub__' of 'datetime.date' objects>,\n",
       "              '__new__': <function date.__new__(*args, **kwargs)>,\n",
       "              'fromtimestamp': <method 'fromtimestamp' of 'datetime.date' objects>,\n",
       "              'fromordinal': <method 'fromordinal' of 'datetime.date' objects>,\n",
       "              'fromisoformat': <method 'fromisoformat' of 'datetime.date' objects>,\n",
       "              'fromisocalendar': <method 'fromisocalendar' of 'datetime.date' objects>,\n",
       "              'today': <method 'today' of 'datetime.date' objects>,\n",
       "              'ctime': <method 'ctime' of 'datetime.date' objects>,\n",
       "              'strftime': <method 'strftime' of 'datetime.date' objects>,\n",
       "              '__format__': <method '__format__' of 'datetime.date' objects>,\n",
       "              'timetuple': <method 'timetuple' of 'datetime.date' objects>,\n",
       "              'isocalendar': <method 'isocalendar' of 'datetime.date' objects>,\n",
       "              'isoformat': <method 'isoformat' of 'datetime.date' objects>,\n",
       "              'isoweekday': <method 'isoweekday' of 'datetime.date' objects>,\n",
       "              'toordinal': <method 'toordinal' of 'datetime.date' objects>,\n",
       "              'weekday': <method 'weekday' of 'datetime.date' objects>,\n",
       "              'replace': <method 'replace' of 'datetime.date' objects>,\n",
       "              '__reduce__': <method '__reduce__' of 'datetime.date' objects>,\n",
       "              'year': <attribute 'year' of 'datetime.date' objects>,\n",
       "              'month': <attribute 'month' of 'datetime.date' objects>,\n",
       "              'day': <attribute 'day' of 'datetime.date' objects>,\n",
       "              '__doc__': 'date(year, month, day) --> date object',\n",
       "              'min': datetime.date(1, 1, 1),\n",
       "              'max': datetime.date(9999, 12, 31),\n",
       "              'resolution': datetime.timedelta(days=1)})"
      ]
     },
     "execution_count": 1,
     "metadata": {},
     "output_type": "execute_result"
    }
   ],
   "source": [
    "from datetime import date\n",
    "date.__dict__"
   ]
  },
  {
   "cell_type": "code",
   "execution_count": null,
   "metadata": {},
   "outputs": [],
   "source": []
  }
 ],
 "metadata": {
  "kernelspec": {
   "display_name": "Python 3",
   "language": "python",
   "name": "python3"
  },
  "language_info": {
   "codemirror_mode": {
    "name": "ipython",
    "version": 3
   },
   "file_extension": ".py",
   "mimetype": "text/x-python",
   "name": "python",
   "nbconvert_exporter": "python",
   "pygments_lexer": "ipython3",
   "version": "3.8.5"
  }
 },
 "nbformat": 4,
 "nbformat_minor": 4
}
