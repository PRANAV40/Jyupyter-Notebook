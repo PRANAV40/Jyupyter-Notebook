{
 "cells": [
  {
   "cell_type": "code",
   "execution_count": 18,
   "metadata": {
    "scrolled": true
   },
   "outputs": [
    {
     "name": "stdout",
     "output_type": "stream",
     "text": [
      "[10 20 30 40 50]\n",
      "Type of Array <class 'numpy.ndarray'>\n",
      "Size of Array is 5\n",
      "Shape of Array is (5,)\n",
      "Dimension of Array is: 1\n",
      "Sum of Array is:  150\n",
      "Maximum element is: 50\n",
      "Minimum element is: 10\n",
      "Enter the number24\n",
      "Not Found\n"
     ]
    }
   ],
   "source": [
    "import numpy as np\n",
    "myArray = np.array([10,20,30,40,50])\n",
    "print(myArray)\n",
    "print(\"Type of Array\",type(myArray))\n",
    "print(\"Size of Array is\",myArray.size)\n",
    "print(\"Shape of Array is\",myArray.shape)\n",
    "print(\"Dimension of Array is:\",myArray.ndim)\n",
    "sum = 0\n",
    "for i in myArray:\n",
    "    sum = sum + i\n",
    "print(\"Sum of Array is: \",sum)\n",
    "print(\"Maximum element is:\",max(myArray))\n",
    "print(\"Minimum element is:\",min(myArray))\n",
    "num = int(input(\"Enter the number\"))\n",
    "if num in myArray:\n",
    "    print(\"Found\")\n",
    "else:\n",
    "    print(\"Not Found\")"
   ]
  },
  {
   "cell_type": "code",
   "execution_count": 20,
   "metadata": {},
   "outputs": [
    {
     "name": "stdout",
     "output_type": "stream",
     "text": [
      "<bound method operation.operationusingfun of <__main__.operation object at 0x00000273EFCF8E20>>\n"
     ]
    }
   ],
   "source": [
    "import numpy as np\n",
    "class operation:\n",
    "    def operationusingfun():\n",
    "        myarray = [12,13,14,15,16,17]\n",
    "        return myarray\n",
    "d = operation()\n",
    "print(d.operationusingfun)"
   ]
  },
  {
   "cell_type": "code",
   "execution_count": 21,
   "metadata": {},
   "outputs": [
    {
     "name": "stdout",
     "output_type": "stream",
     "text": [
      "[10 20 30 40 50 60 70 80]\n",
      "1\n",
      "[[10 20 30 40]\n",
      " [50 60 70 80]]\n",
      "2\n",
      "8\n",
      "(2, 4)\n"
     ]
    }
   ],
   "source": [
    "import numpy as np\n",
    "myArray = np.array([10,20,30,40,50,60,70,80])\n",
    "print(myArray)\n",
    "print(myArray.ndim)\n",
    "myarray = myArray.reshape(2,4)\n",
    "print(myarray)\n",
    "print(myarray.ndim)\n",
    "print(myarray.size)\n",
    "print(myarray.shape)"
   ]
  },
  {
   "cell_type": "code",
   "execution_count": 16,
   "metadata": {},
   "outputs": [
    {
     "name": "stdout",
     "output_type": "stream",
     "text": [
      "[10 20 30 40]\n",
      "[50 60 70 80]\n",
      "[10 20 30 40 50 60 70 80]\n"
     ]
    }
   ],
   "source": [
    "import numpy as np\n",
    "myArray = np.array([10,20,30,40])\n",
    "myArray2 = np.array([50,60,70,80])\n",
    "print(myArray)\n",
    "print(myArray2)\n",
    "myArray3 = np.append(myArray,myArray2)\n",
    "print(myArray3)"
   ]
  },
  {
   "cell_type": "code",
   "execution_count": 23,
   "metadata": {},
   "outputs": [
    {
     "name": "stdout",
     "output_type": "stream",
     "text": [
      "[20 40 60 80]\n"
     ]
    }
   ],
   "source": [
    "import numpy as np\n",
    "myArray = np.array([10,20,30,40])\n",
    "myArray2 = np.array([50,60,70,80])\n",
    "myArray3 = myArray + myArray\n",
    "print(myArray3)"
   ]
  },
  {
   "cell_type": "code",
   "execution_count": 30,
   "metadata": {},
   "outputs": [
    {
     "name": "stdout",
     "output_type": "stream",
     "text": [
      "[[1, 2, 3], [4, 5, 6], [7, 8, 9]]\n",
      "[[7, 8, 9], [4, 5, 6], [1, 2, 3]]\n",
      "[[ 18  24  30]\n",
      " [ 54  69  84]\n",
      " [ 90 114 138]]\n"
     ]
    }
   ],
   "source": [
    "import numpy as np\n",
    "matrix1 = [\n",
    "      [1, 2, 3], [4, 5, 6], [7, 8, 9]\n",
    "   ] \n",
    "matrix2 = [\n",
    "      [7, 8, 9], [4, 5, 6],[1, 2, 3]\n",
    "   ]\n",
    "print(matrix1)\n",
    "print(matrix2)\n",
    "result = np.dot(matrix1, matrix2)\n",
    "print(result)"
   ]
  },
  {
   "cell_type": "code",
   "execution_count": 34,
   "metadata": {},
   "outputs": [
    {
     "name": "stdout",
     "output_type": "stream",
     "text": [
      "[1 2]\n",
      "[5 6]\n",
      "17\n"
     ]
    }
   ],
   "source": [
    "import numpy as np\n",
    "myArray = np.array([1,2])\n",
    "myArray2 = np.array([5,6])\n",
    "print(myArray)\n",
    "print(myArray2)\n",
    "result = np.dot(myArray,myArray2)\n",
    "print(result)"
   ]
  },
  {
   "cell_type": "code",
   "execution_count": null,
   "metadata": {},
   "outputs": [],
   "source": []
  }
 ],
 "metadata": {
  "kernelspec": {
   "display_name": "Python 3",
   "language": "python",
   "name": "python3"
  },
  "language_info": {
   "codemirror_mode": {
    "name": "ipython",
    "version": 3
   },
   "file_extension": ".py",
   "mimetype": "text/x-python",
   "name": "python",
   "nbconvert_exporter": "python",
   "pygments_lexer": "ipython3",
   "version": "3.8.5"
  }
 },
 "nbformat": 4,
 "nbformat_minor": 4
}
